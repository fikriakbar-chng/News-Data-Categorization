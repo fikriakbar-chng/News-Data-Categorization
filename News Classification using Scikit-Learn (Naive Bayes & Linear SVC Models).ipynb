{
 "cells": [
  {
   "cell_type": "markdown",
   "metadata": {},
   "source": [
    "## 1. Using Python BeautifulSoup to scrape Kompas Headlines\n",
    "\n",
    "Scrape the headlines of the Kompas News website and try to build machine learning classifier from it.\n",
    "The website will be scraped using python's BeautifulSoup package."
   ]
  },
  {
   "cell_type": "markdown",
   "metadata": {},
   "source": [
    "### Importing Libraries\n",
    "\n",
    "We'll start by importing the necessary libraries as follows:"
   ]
  },
  {
   "cell_type": "code",
   "execution_count": 1,
   "metadata": {},
   "outputs": [],
   "source": [
    "import pandas as pd\n",
    "import numpy as np\n",
    "import re\n",
    "import time\n",
    "from urllib.request import urlopen\n",
    "from bs4 import BeautifulSoup"
   ]
  },
  {
   "cell_type": "markdown",
   "metadata": {},
   "source": [
    "### Determining Pages to be Scraped\n",
    "\n",
    "A sample URL that we're going to loop and scrape is the following https://indeks.kompas.com/?site=news&date=2020-01-24&page=. If we see on the actual website, the url changes for each page. In order to loop through all the pages to get the necessary dataset, we need to find out the number of pages, which is 26 pages.\n",
    "\n",
    "List variables that will hold the scraped values for the columns we intend:"
   ]
  },
  {
   "cell_type": "code",
   "execution_count": 2,
   "metadata": {},
   "outputs": [],
   "source": [
    "title=[]\n",
    "category=[]"
   ]
  },
  {
   "cell_type": "markdown",
   "metadata": {},
   "source": [
    "### Doing the actual scrape\n",
    "\n",
    "We will now use a for loop and go through each page one by one to get our fields of interest as shown below."
   ]
  },
  {
   "cell_type": "code",
   "execution_count": 3,
   "metadata": {},
   "outputs": [
    {
     "name": "stdout",
     "output_type": "stream",
     "text": [
      "Done!\n"
     ]
    }
   ],
   "source": [
    "for cp in np.arange(1,27):\n",
    "    url = \"https://indeks.kompas.com/?site=news&date=2020-01-24&page=\" + str(cp)\n",
    "    html = urlopen(url)\n",
    "    soup = BeautifulSoup(html, 'html.parser')\n",
    "    \n",
    "    title.append([i.text for i in soup.find_all(class_='article__title article__title--medium')])\n",
    "    category.append([i.text for i in soup.find_all(class_='article__subtitle article__subtitle--inline')])\n",
    "    time.sleep(3)\n",
    "    \n",
    "print (\"Done!\")"
   ]
  },
  {
   "cell_type": "markdown",
   "metadata": {},
   "source": [
    "The above code segment:\n",
    "\n",
    "* Set the url to a variable\n",
    "* Opened the url using urlopen\n",
    "* Scraped the specified page and assigned it to soup variable\n",
    "* Identified and extracted values for Title and Category by using their relevant class names. These class names were found using Developer Tools."
   ]
  },
  {
   "cell_type": "markdown",
   "metadata": {},
   "source": [
    "### Flattening List of Lists\n",
    "Since the values we got are list of lists, they will now be flatted using the following code:"
   ]
  },
  {
   "cell_type": "code",
   "execution_count": 4,
   "metadata": {},
   "outputs": [],
   "source": [
    "titleflat = [y for x in title for y in x]\n",
    "categoryflat = [y for x in category for y in x]"
   ]
  },
  {
   "cell_type": "markdown",
   "metadata": {},
   "source": [
    "### Making a Data Frame and Saving as CSV File"
   ]
  },
  {
   "cell_type": "code",
   "execution_count": 5,
   "metadata": {},
   "outputs": [],
   "source": [
    "cdata = {\"title\":titleflat, \"category\":categoryflat}\n",
    "df = pd.DataFrame(data = cdata)\n",
    "df.to_csv(\"c:\\\\Users\\\\HP\\\\Desktop\\\\Projects\\\\Projects\\\\Vutura\\\\kompas24jan.csv\", header=True, index=False)"
   ]
  },
  {
   "cell_type": "markdown",
   "metadata": {},
   "source": [
    "### Reading CSV File"
   ]
  },
  {
   "cell_type": "code",
   "execution_count": 6,
   "metadata": {},
   "outputs": [
    {
     "data": {
      "text/plain": [
       "(376, 2)"
      ]
     },
     "execution_count": 6,
     "metadata": {},
     "output_type": "execute_result"
    }
   ],
   "source": [
    "kompas = pd.read_csv('kompas24jan.csv')\n",
    "kompas.shape"
   ]
  },
  {
   "cell_type": "code",
   "execution_count": 7,
   "metadata": {},
   "outputs": [
    {
     "data": {
      "text/html": [
       "<div>\n",
       "<style scoped>\n",
       "    .dataframe tbody tr th:only-of-type {\n",
       "        vertical-align: middle;\n",
       "    }\n",
       "\n",
       "    .dataframe tbody tr th {\n",
       "        vertical-align: top;\n",
       "    }\n",
       "\n",
       "    .dataframe thead th {\n",
       "        text-align: right;\n",
       "    }\n",
       "</style>\n",
       "<table border=\"1\" class=\"dataframe\">\n",
       "  <thead>\n",
       "    <tr style=\"text-align: right;\">\n",
       "      <th></th>\n",
       "      <th>title</th>\n",
       "      <th>category</th>\n",
       "    </tr>\n",
       "  </thead>\n",
       "  <tbody>\n",
       "    <tr>\n",
       "      <td>0</td>\n",
       "      <td>[BERITA FOTO] Bumi Tak Pilih Kasih di Kuburan ...</td>\n",
       "      <td>Megapolitan</td>\n",
       "    </tr>\n",
       "    <tr>\n",
       "      <td>1</td>\n",
       "      <td>Apa Alasan Pemprov DKI Jakarta Pilih PT Bahana...</td>\n",
       "      <td>Megapolitan</td>\n",
       "    </tr>\n",
       "    <tr>\n",
       "      <td>2</td>\n",
       "      <td>Ma'ruf Amin Sebut Solusi Militer Tak Sepenuhny...</td>\n",
       "      <td>Regional</td>\n",
       "    </tr>\n",
       "    <tr>\n",
       "      <td>3</td>\n",
       "      <td>Harga Cabai di Tegal Meroket</td>\n",
       "      <td>Regional</td>\n",
       "    </tr>\n",
       "    <tr>\n",
       "      <td>4</td>\n",
       "      <td>3 Peran Orangtua Didik Anak di Era \"Zaman Now\"</td>\n",
       "      <td>Edukasi</td>\n",
       "    </tr>\n",
       "  </tbody>\n",
       "</table>\n",
       "</div>"
      ],
      "text/plain": [
       "                                               title     category\n",
       "0  [BERITA FOTO] Bumi Tak Pilih Kasih di Kuburan ...  Megapolitan\n",
       "1  Apa Alasan Pemprov DKI Jakarta Pilih PT Bahana...  Megapolitan\n",
       "2  Ma'ruf Amin Sebut Solusi Militer Tak Sepenuhny...     Regional\n",
       "3                       Harga Cabai di Tegal Meroket     Regional\n",
       "4     3 Peran Orangtua Didik Anak di Era \"Zaman Now\"      Edukasi"
      ]
     },
     "execution_count": 7,
     "metadata": {},
     "output_type": "execute_result"
    }
   ],
   "source": [
    "kompas.head()"
   ]
  },
  {
   "cell_type": "markdown",
   "metadata": {},
   "source": [
    "# 2. Building News Categorization\n",
    "\n",
    "In this section, we will apply NLP (Natural Language Processing) along with some supervised machine learning (sklearn) to build a News Categorization detector."
   ]
  },
  {
   "cell_type": "markdown",
   "metadata": {},
   "source": [
    "### Transforming collected data"
   ]
  },
  {
   "cell_type": "code",
   "execution_count": 8,
   "metadata": {},
   "outputs": [],
   "source": [
    "from sklearn.feature_extraction.text import CountVectorizer\n",
    "from sklearn.model_selection import train_test_split\n",
    "from Sastrawi.StopWordRemover.StopWordRemoverFactory import StopWordRemoverFactory\n",
    "\n",
    "stop_factory = StopWordRemoverFactory().get_stop_words()  ## stop_word for Indonesian language\n",
    "\n",
    "# Create a series to store the labels: y\n",
    "y = kompas.category\n",
    "\n",
    "# Create training and test sets\n",
    "X_train, X_test, y_train, y_test = train_test_split(kompas['title'], y, test_size=0.333, random_state=89)"
   ]
  },
  {
   "cell_type": "markdown",
   "metadata": {},
   "source": [
    "### Vectorize the data"
   ]
  },
  {
   "cell_type": "code",
   "execution_count": 9,
   "metadata": {},
   "outputs": [],
   "source": [
    "# Initialize a CountVectorizer object: count_vectorizer\n",
    "count_vectorizer = CountVectorizer(stop_words=stop_factory, max_df=0.9)\n",
    "\n",
    "# Transform the training data using only the 'text' column values: count_train \n",
    "count_train = count_vectorizer.fit_transform(X_train)\n",
    "\n",
    "# Transform the test data using only the 'text' column values: count_test \n",
    "count_test = count_vectorizer.transform(X_test)"
   ]
  },
  {
   "cell_type": "code",
   "execution_count": 10,
   "metadata": {},
   "outputs": [],
   "source": [
    "# Import TfidfVectorizer\n",
    "from sklearn.feature_extraction.text import TfidfVectorizer\n",
    "\n",
    "# Initialize a TfidfVectorizer object: tfidf_vectorizer\n",
    "tfidf_vectorizer = TfidfVectorizer(stop_words=stop_factory, max_df=0.9)\n",
    "\n",
    "# Transform the training data: tfidf_train \n",
    "tfidf_train = tfidf_vectorizer.fit_transform(X_train.values)\n",
    "\n",
    "# Transform the test data: tfidf_test \n",
    "tfidf_test = tfidf_vectorizer.transform(X_test.values)"
   ]
  },
  {
   "cell_type": "markdown",
   "metadata": {},
   "source": [
    "### Training a multinomial naive Bayes model"
   ]
  },
  {
   "cell_type": "code",
   "execution_count": 11,
   "metadata": {},
   "outputs": [
    {
     "name": "stdout",
     "output_type": "stream",
     "text": [
      "NaiveBayes Count Score:  0.8253968253968254\n"
     ]
    }
   ],
   "source": [
    "# Import the necessary modules\n",
    "from sklearn.naive_bayes import MultinomialNB\n",
    "from sklearn import metrics\n",
    "\n",
    "# Instantiate a Multinomial Naive Bayes classifier: nb_classifier\n",
    "nb_classifier = MultinomialNB()\n",
    "\n",
    "# Fit the classifier to the training data\n",
    "nb_classifier.fit(count_train, y_train)\n",
    "\n",
    "# Create the predicted tags: count_pred\n",
    "count_pred = nb_classifier.predict(count_test)\n",
    "\n",
    "# Calculate the accuracy score: count_score\n",
    "count_score = metrics.accuracy_score(y_test, count_pred)\n",
    "print('NaiveBayes Count Score: ', count_score)\n",
    "\n",
    "# Calculate the confusion matrix: count_cm\n",
    "count_cm = metrics.confusion_matrix(y_test, count_pred, \n",
    "                                    labels=['Megapolitan', 'Regional', 'Edukasi', 'Nasional', 'Internasional'])"
   ]
  },
  {
   "cell_type": "code",
   "execution_count": 12,
   "metadata": {},
   "outputs": [
    {
     "name": "stdout",
     "output_type": "stream",
     "text": [
      "NaiveBayes Tfidf Score:  0.7936507936507936\n"
     ]
    }
   ],
   "source": [
    "# Calculate the accuracy score and confusion matrix of Multinomial Naive Bayes classifier predictions trained on tfidf_train, \n",
    "# y_train and tested against tfidf_test and y_test\n",
    "\n",
    "nb_classifier = MultinomialNB()\n",
    "nb_classifier.fit(tfidf_train, y_train)\n",
    "tfidf_pred = nb_classifier.predict(tfidf_test)\n",
    "tfidf_score = metrics.accuracy_score(y_test, tfidf_pred)\n",
    "\n",
    "print('NaiveBayes Tfidf Score: ', tfidf_score)\n",
    "\n",
    "tfidf_cm = metrics.confusion_matrix(y_test, tfidf_pred, \n",
    "                                    labels=['Megapolitan', 'Regional', 'Edukasi', 'Nasional', 'Internasional'])"
   ]
  },
  {
   "cell_type": "markdown",
   "metadata": {},
   "source": [
    "### Evaluating model using a confusion matrix"
   ]
  },
  {
   "cell_type": "code",
   "execution_count": 13,
   "metadata": {},
   "outputs": [
    {
     "name": "stdout",
     "output_type": "stream",
     "text": [
      "Confusion matrix, without normalization\n",
      "Confusion matrix, without normalization\n"
     ]
    },
    {
     "data": {
      "image/png": "[encoded data removed]",
      "text/plain": [
       "<Figure size 432x288 with 2 Axes>"
      ]
     },
     "metadata": {
      "needs_background": "light"
     },
     "output_type": "display_data"
    },
    {
     "data": {
      "image/png": "[encoded data removed]",
      "text/plain": [
       "<Figure size 432x288 with 2 Axes>"
      ]
     },
     "metadata": {
      "needs_background": "light"
     },
     "output_type": "display_data"
    }
   ],
   "source": [
    "%matplotlib inline\n",
    "\n",
    "from datasets.helper_functions import plot_confusion_matrix\n",
    "\n",
    "# Calculate the confusion matrices for the tfidf_nb model and count_nb models\n",
    "tfidf_cm = metrics.confusion_matrix(y_test, tfidf_pred, \n",
    "                                    labels=['Megapolitan', 'Regional', 'Edukasi', 'Nasional', 'Internasional'])\n",
    "count_cm = metrics.confusion_matrix(y_test, count_pred, \n",
    "                                    labels=['Megapolitan', 'Regional', 'Edukasi', 'Nasional', 'Internasional'])\n",
    "\n",
    "# Plot the tfidf_nb_cm confusion matrix\n",
    "plot_confusion_matrix(tfidf_cm, classes=['Megapolitan', 'Regional', 'Edukasi', 'Nasional', 'Internasional'], \n",
    "                      title=\"TF-IDF NB Confusion Matrix\")\n",
    "\n",
    "# Plot the count_nb_cm confusion matrix without overwriting the first plot \n",
    "plot_confusion_matrix(count_cm, classes=['Megapolitan', 'Regional', 'Edukasi', 'Nasional', 'Internasional'], \n",
    "                      title='COUNT NB Confusion Matrix', figure=1)"
   ]
  },
  {
   "cell_type": "markdown",
   "metadata": {},
   "source": [
    "### Trying another classifier: Linear SVC"
   ]
  },
  {
   "cell_type": "code",
   "execution_count": 18,
   "metadata": {},
   "outputs": [
    {
     "name": "stdout",
     "output_type": "stream",
     "text": [
      "LinearSVC Score:   0.849\n",
      "Confusion matrix, without normalization\n"
     ]
    },
    {
     "data": {
      "image/png": "[encoded data removed]",
      "text/plain": [
       "<Figure size 432x288 with 2 Axes>"
      ]
     },
     "metadata": {
      "needs_background": "light"
     },
     "output_type": "display_data"
    }
   ],
   "source": [
    "from sklearn.svm import LinearSVC\n",
    "\n",
    "# Create a LinearSVC model\n",
    "count_svc = LinearSVC()\n",
    "\n",
    "count_svc.fit(count_train, y_train)\n",
    "\n",
    "# Run predict on count test data to get predictions\n",
    "count_svc_pred = count_svc.predict(count_test)\n",
    "\n",
    "# Calculate accuracy using the metrics module\n",
    "count_svc_score = metrics.accuracy_score(y_test, count_svc_pred)\n",
    "\n",
    "print(\"LinearSVC Score:   %0.3f\" % count_svc_score)\n",
    "\n",
    "# Calculate the confusion matrices for the count_svc model\n",
    "svc_cm = metrics.confusion_matrix(y_test, count_svc_pred, labels=['Megapolitan', 'Regional', 'Edukasi', 'Nasional', 'Internasional'])\n",
    "\n",
    "plot_confusion_matrix(svc_cm, classes=['Megapolitan', 'Regional', 'Edukasi', 'Nasional', 'Internasional'], \n",
    "                      title=\"Count LinearSVC Confusion Matrix\")"
   ]
  },
  {
   "cell_type": "markdown",
   "metadata": {},
   "source": [
    "## Conclusion\n",
    "\n",
    "Of the three models carried out, it was shown that the LinearSCV model classification produced a better prediction among the other multinomial Bayesian models."
   ]
  }
 ],
 "metadata": {
  "kernelspec": {
   "display_name": "Python 3",
   "language": "python",
   "name": "python3"
  },
  "language_info": {
   "codemirror_mode": {
    "name": "ipython",
    "version": 3
   },
   "file_extension": ".py",
   "mimetype": "text/x-python",
   "name": "python",
   "nbconvert_exporter": "python",
   "pygments_lexer": "ipython3",
   "version": "3.7.4"
  }
 },
 "nbformat": 4,
 "nbformat_minor": 2
}
